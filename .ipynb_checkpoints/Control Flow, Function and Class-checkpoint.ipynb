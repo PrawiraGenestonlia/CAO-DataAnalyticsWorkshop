{
 "cells": [
  {
   "cell_type": "code",
   "execution_count": 2,
   "metadata": {},
   "outputs": [
    {
     "name": "stdout",
     "output_type": "stream",
     "text": [
      "True\n"
     ]
    }
   ],
   "source": [
    "#boolean - True or False\n",
    "number = 11\n",
    "print (number <12)"
   ]
  },
  {
   "cell_type": "code",
   "execution_count": 4,
   "metadata": {},
   "outputs": [
    {
     "name": "stdout",
     "output_type": "stream",
     "text": [
      "Yay\n",
      "nay\n"
     ]
    }
   ],
   "source": [
    "#if control flow\n",
    "\n",
    "#if condition:\n",
    "#   execute code here if condition is True\n",
    "\n",
    "number = 11\n",
    "\n",
    "if number <12:\n",
    "    print(\"Yay\")\n",
    "\n",
    "#else\n",
    "\n",
    "if number > 12 :\n",
    "    print(\"yay\")\n",
    "else:\n",
    "    print (\"nay\")\n",
    "#else if -> elif:"
   ]
  },
  {
   "cell_type": "code",
   "execution_count": 14,
   "metadata": {},
   "outputs": [
    {
     "name": "stdout",
     "output_type": "stream",
     "text": [
      "2\n",
      "4\n",
      "6\n",
      "8\n",
      "0\n",
      "1\n",
      "2\n",
      "3\n"
     ]
    }
   ],
   "source": [
    "# for control flow\n",
    "\n",
    "list = [1,2,3,4]\n",
    "for x in list:\n",
    "    print(x*2)\n",
    "for y in range(0,4):\n",
    "    print(y)"
   ]
  },
  {
   "cell_type": "code",
   "execution_count": 18,
   "metadata": {},
   "outputs": [
    {
     "name": "stdout",
     "output_type": "stream",
     "text": [
      "1\n",
      "3\n",
      "4\n",
      "3\n",
      "4\n",
      "{'id': 5, 'floor_area_sqm': 90, 'resale_price': 790000}\n"
     ]
    }
   ],
   "source": [
    "table = [\n",
    "    {\"id\":1, \"floor_area_sqm\":60,\"resale_price\": 450000},\n",
    "    {\"id\":2, \"floor_area_sqm\":70,\"resale_price\": 700000},\n",
    "    {\"id\":3, \"floor_area_sqm\":50,\"resale_price\": 480000},\n",
    "    {\"id\":4, \"floor_area_sqm\":40,\"resale_price\": 370000},\n",
    "    {\"id\":5, \"floor_area_sqm\":90,\"resale_price\": 790000},\n",
    "]\n",
    "\n",
    "for x in table:\n",
    "    if (x[\"resale_price\"]  < 500000) :\n",
    "        print(x[\"id\"])\n",
    "\n",
    "for x in table:\n",
    "    if(x[\"floor_area_sqm\"] < 55) :\n",
    "        print(x[\"id\"])\n",
    "\n",
    "print(x)"
   ]
  },
  {
   "cell_type": "code",
   "execution_count": null,
   "metadata": {},
   "outputs": [],
   "source": []
  }
 ],
 "metadata": {
  "file_extension": ".py",
  "kernelspec": {
   "display_name": "Python 3",
   "language": "python",
   "name": "python3"
  },
  "language_info": {
   "codemirror_mode": {
    "name": "ipython",
    "version": 3
   },
   "file_extension": ".py",
   "mimetype": "text/x-python",
   "name": "python",
   "nbconvert_exporter": "python",
   "pygments_lexer": "ipython3",
   "version": "3.7.4"
  },
  "mimetype": "text/x-python",
  "name": "python",
  "npconvert_exporter": "python",
  "pygments_lexer": "ipython3",
  "version": 3
 },
 "nbformat": 4,
 "nbformat_minor": 2
}
