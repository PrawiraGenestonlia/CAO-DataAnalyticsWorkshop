{
 "cells": [
  {
   "cell_type": "code",
   "execution_count": 3,
   "metadata": {},
   "outputs": [
    {
     "name": "stdout",
     "output_type": "stream",
     "text": [
      "hello\n"
     ]
    }
   ],
   "source": [
    "print(\"hello\");"
   ]
  },
  {
   "cell_type": "code",
   "execution_count": 6,
   "metadata": {},
   "outputs": [
    {
     "name": "stdout",
     "output_type": "stream",
     "text": [
      "4\n",
      "0\n",
      "4\n",
      "1.0\n"
     ]
    }
   ],
   "source": [
    "print (2+2)\n",
    "print (2-2)\n",
    "print (2*2)\n",
    "print (2/2)"
   ]
  },
  {
   "cell_type": "code",
   "execution_count": 7,
   "metadata": {},
   "outputs": [
    {
     "name": "stdout",
     "output_type": "stream",
     "text": [
      "i am a string\n"
     ]
    }
   ],
   "source": [
    "string = \"i am a string\" #string means text\n",
    "print(string)\n"
   ]
  },
  {
   "cell_type": "code",
   "execution_count": 1,
   "metadata": {},
   "outputs": [
    {
     "name": "stdout",
     "output_type": "stream",
     "text": [
      "part2\n"
     ]
    }
   ],
   "source": [
    "#concentation - adding strings together\n",
    "partone = \"part\"\n",
    "parttwo = \"2\"\n",
    "print (partone+parttwo)"
   ]
  },
  {
   "cell_type": "code",
   "execution_count": 11,
   "metadata": {},
   "outputs": [
    {
     "name": "stdout",
     "output_type": "stream",
     "text": [
      "1\n"
     ]
    }
   ],
   "source": [
    "#list\n",
    "list = [1,2,3,4,5]\n",
    "print(list[0])"
   ]
  },
  {
   "cell_type": "code",
   "execution_count": 12,
   "metadata": {},
   "outputs": [
    {
     "name": "stdout",
     "output_type": "stream",
     "text": [
      "[1, 2, 3, 4, 5, 'EC']\n"
     ]
    }
   ],
   "source": [
    "#append means to put a value at the back of the list\n",
    "list.append(\"EC\")\n",
    "print(list)"
   ]
  },
  {
   "cell_type": "code",
   "execution_count": 13,
   "metadata": {},
   "outputs": [
    {
     "name": "stdout",
     "output_type": "stream",
     "text": [
      "['11', 2, 3, 4, 5, 'EC']\n"
     ]
    }
   ],
   "source": [
    "#mutability \n",
    "list[0] = \"11\"\n",
    "print(list)"
   ]
  },
  {
   "cell_type": "code",
   "execution_count": 15,
   "metadata": {},
   "outputs": [
    {
     "name": "stdout",
     "output_type": "stream",
     "text": [
      "{'floor_area_sqm': 64, 'resale_price': 450000}\n",
      "64\n"
     ]
    }
   ],
   "source": [
    "#dictionaries - associated by their key:value pair\n",
    "dictionary = {\n",
    "    \"floor_area_sqm\": 64,\n",
    "    \"resale_price\": 450000\n",
    "}\n",
    "print(dictionary)\n",
    "\n",
    "#query dictionaries by key\n",
    "print(dictionary[\"floor_area_sqm\"])"
   ]
  },
  {
   "cell_type": "code",
   "execution_count": 2,
   "metadata": {},
   "outputs": [
    {
     "name": "stdout",
     "output_type": "stream",
     "text": [
      "[{'town': 'Yishun', 'flat_type': '3 ROOM', 'resale_price': 400000}, {'town': 'Chua Chu Kang', 'flat_type': '4 ROOM', 'resale_price': 450000}, {'town': 'Jurong West', 'flat_type': '5 ROOM', 'resale_price': 500000}]\n",
      "500000\n"
     ]
    }
   ],
   "source": [
    "table = [\n",
    "    {\"town\":\"Yishun\", \"flat_type\":\"3 ROOM\", \"resale_price\":400000},\n",
    "    {\"town\":\"Chua Chu Kang\", \"flat_type\":\"4 ROOM\", \"resale_price\":450000},\n",
    "    {\"town\":\"Jurong West\", \"flat_type\":\"5 ROOM\", \"resale_price\":500000},\n",
    "]\n",
    "print(table)\n",
    "print(table[2][\"resale_price\"])"
   ]
  },
  {
   "cell_type": "code",
   "execution_count": null,
   "metadata": {},
   "outputs": [],
   "source": []
  }
 ],
 "metadata": {
  "kernelspec": {
   "display_name": "Python 3",
   "language": "python",
   "name": "python3"
  },
  "language_info": {
   "codemirror_mode": {
    "name": "ipython",
    "version": 3
   },
   "file_extension": ".py",
   "mimetype": "text/x-python",
   "name": "python",
   "nbconvert_exporter": "python",
   "pygments_lexer": "ipython3",
   "version": "3.7.4"
  }
 },
 "nbformat": 4,
 "nbformat_minor": 2
}
