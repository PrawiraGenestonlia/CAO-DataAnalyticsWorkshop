{
 "nbformat": 4,
 "nbformat_minor": 2,
 "metadata": {
  "language_info": {
   "name": "python",
   "codemirror_mode": {
    "name": "ipython",
    "version": 3
   },
   "version": "3.7.6-final"
  },
  "orig_nbformat": 2,
  "file_extension": ".py",
  "mimetype": "text/x-python",
  "name": "python",
  "npconvert_exporter": "python",
  "pygments_lexer": "ipython3",
  "version": 3,
  "kernelspec": {
   "name": "python3",
   "display_name": "Python 3"
  }
 },
 "cells": [
  {
   "cell_type": "code",
   "execution_count": 2,
   "metadata": {},
   "outputs": [
    {
     "name": "stdout",
     "output_type": "stream",
     "text": "[{'name': 'Doi Chaang', 'rating': 4.0}]\n"
    }
   ],
   "source": [
    "import json\n",
    "\n",
    "with open('data/yelpThaiFood.json') as file:\n",
    "    thailist = json.load(file)\n",
    "\n",
    "list_of_thai_res = []\n",
    "\n",
    "for x in thailist:\n",
    "    if ((x[\"rating\"] > 3.5) & (x['distance'] < 1000)) :\n",
    "        list_of_thai_res.append({\"name\":x[\"name\"], \"rating\":x[\"rating\"]})\n",
    "\n",
    "print (list_of_thai_res)"
   ]
  },
  {
   "cell_type": "code",
   "execution_count": 7,
   "metadata": {},
   "outputs": [
    {
     "data": {
      "text/html": "<div>\n<style scoped>\n    .dataframe tbody tr th:only-of-type {\n        vertical-align: middle;\n    }\n\n    .dataframe tbody tr th {\n        vertical-align: top;\n    }\n\n    .dataframe thead th {\n        text-align: right;\n    }\n</style>\n<table border=\"1\" class=\"dataframe\">\n  <thead>\n    <tr style=\"text-align: right;\">\n      <th></th>\n      <th>id</th>\n      <th>alias</th>\n      <th>name</th>\n      <th>image_url</th>\n      <th>is_closed</th>\n      <th>url</th>\n      <th>review_count</th>\n      <th>categories</th>\n      <th>rating</th>\n      <th>coordinates</th>\n      <th>transactions</th>\n      <th>price</th>\n      <th>location</th>\n      <th>phone</th>\n      <th>display_phone</th>\n      <th>distance</th>\n    </tr>\n  </thead>\n  <tbody>\n    <tr>\n      <td>124</td>\n      <td>43pW_bvR9yGU51wDN0gvqw</td>\n      <td>doi-chaang-singapore-3</td>\n      <td>Doi Chaang</td>\n      <td>https://s3-media2.fl.yelpcdn.com/bphoto/P3B2Wp...</td>\n      <td>False</td>\n      <td>https://www.yelp.com/biz/doi-chaang-singapore-...</td>\n      <td>1</td>\n      <td>[{'alias': 'coffee', 'title': 'Coffee &amp; Tea'},...</td>\n      <td>4.0</td>\n      <td>{'latitude': 1.31734508967964, 'longitude': 10...</td>\n      <td>[]</td>\n      <td>NaN</td>\n      <td>{'address1': '101 Thomson Rd', 'address2': '#B...</td>\n      <td>+6598367114</td>\n      <td>+65 9836 7114</td>\n      <td>676.541847</td>\n    </tr>\n  </tbody>\n</table>\n</div>",
      "text/plain": "                         id                   alias  ...  display_phone    distance\n124  43pW_bvR9yGU51wDN0gvqw  doi-chaang-singapore-3  ...  +65 9836 7114  676.541847\n\n[1 rows x 16 columns]"
     },
     "execution_count": 7,
     "metadata": {},
     "output_type": "execute_result"
    }
   ],
   "source": [
    "import pandas as pd\n",
    "\n",
    "thai_df = pd.DataFrame(thailist)\n",
    "\n",
    "thai_df.loc[(thai_df['rating']>3.5) & (thai_df['distance']<1000)]"
   ]
  },
  {
   "cell_type": "code",
   "execution_count": null,
   "metadata": {},
   "outputs": [],
   "source": []
  }
 ]
}