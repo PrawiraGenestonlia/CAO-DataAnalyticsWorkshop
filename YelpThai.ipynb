{
 "nbformat": 4,
 "nbformat_minor": 2,
 "metadata": {
  "language_info": {
   "name": "python",
   "codemirror_mode": {
    "name": "ipython",
    "version": 3
   },
   "version": "3.7.6-final"
  },
  "orig_nbformat": 2,
  "file_extension": ".py",
  "mimetype": "text/x-python",
  "name": "python",
  "npconvert_exporter": "python",
  "pygments_lexer": "ipython3",
  "version": 3,
  "kernelspec": {
   "name": "python3",
   "display_name": "Python 3"
  }
 },
 "cells": [
  {
   "cell_type": "code",
   "execution_count": 5,
   "metadata": {},
   "outputs": [
    {
     "name": "stdout",
     "output_type": "stream",
     "text": "['Doi Chaang']\n"
    }
   ],
   "source": [
    "import json\n",
    "\n",
    "with open('yelpThaiFood.json') as file:\n",
    "    thailist = json.load(file)\n",
    "\n",
    "list_of_thai_res = []\n",
    "\n",
    "for x in thailist:\n",
    "    if ((x[\"rating\"] > 3.5) & (x['distance'] < 1000)) :\n",
    "        list_of_thai_res.append(x[\"name\"])\n",
    "\n",
    "print (list_of_thai_res)"
   ]
  },
  {
   "cell_type": "code",
   "execution_count": null,
   "metadata": {},
   "outputs": [],
   "source": []
  }
 ]
}